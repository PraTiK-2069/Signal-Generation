{
 "cells": [
  {
   "cell_type": "code",
   "execution_count": null,
   "id": "596d2b8c",
   "metadata": {},
   "outputs": [],
   "source": [
    "prices = [10,11,12,13,14,15,16,17,18,19,20]"
   ]
  },
  {
   "cell_type": "markdown",
   "id": "9a66ab15",
   "metadata": {},
   "source": [
    "# Threshold Breakout Rule"
   ]
  },
  {
   "cell_type": "code",
   "execution_count": 21,
   "id": "d1003fad",
   "metadata": {},
   "outputs": [],
   "source": [
    "def threshold_breakout_rule(prices):\n",
    "    for i, price in enumerate(prices):\n",
    "        window = prices[max(0, i-5):i]  \n",
    "        if window and price > max(window):\n",
    "            signal = 1\n",
    "        elif window and price < min(window):\n",
    "            signal = -1\n",
    "        else:\n",
    "            signal = 0\n",
    "    return(f\"Price: {price}, Signal: {signal}\")\n"
   ]
  },
  {
   "cell_type": "markdown",
   "id": "875e4f53",
   "metadata": {},
   "source": [
    "# Moving-Average Crossover Rule"
   ]
  },
  {
   "cell_type": "code",
   "execution_count": null,
   "id": "d114bfde",
   "metadata": {},
   "outputs": [
    {
     "name": "stdout",
     "output_type": "stream",
     "text": [
      "Price: 10, Signal: 0\n",
      "Price: 11, Signal: 0\n",
      "Price: 12, Signal: 0\n",
      "Price: 11, Signal: 0\n",
      "Price: 13, Signal: 1\n",
      "Price: 14, Signal: 1\n",
      "Price: 13, Signal: 1\n",
      "Price: 12, Signal: 1\n",
      "Price: 13, Signal: -1\n",
      "Price: 15, Signal: -1\n",
      "Price: 10, Signal: -1\n",
      "Price: 11, Signal: -1\n",
      "Price: 12, Signal: -1\n",
      "Price: 11, Signal: -1\n",
      "Price: 13, Signal: -1\n",
      "Price: 14, Signal: -1\n",
      "Price: 13, Signal: -1\n",
      "Price: 12, Signal: -1\n",
      "Price: 13, Signal: -1\n",
      "Price: 15, Signal: 0\n"
     ]
    }
   ],
   "source": [
    "short_window = 3\n",
    "long_window = 5\n",
    "for i in range(len(prices)):\n",
    "    if i < long_window - 1:\n",
    "        signal = 0\n",
    "    else:\n",
    "        short_ma = sum(prices[i-short_window+1:i+1]) / short_window\n",
    "        long_ma = sum(prices[i-long_window+1:i+1]) / long_window\n",
    "        if short_ma > long_ma:\n",
    "            signal = 1\n",
    "        elif short_ma < long_ma:\n",
    "            signal = -1\n",
    "        else:\n",
    "            signal = 0\n",
    "    print(f\"Price: {prices[i]}, Signal: {signal}\")\n",
    "threshold = 15\n",
    "for price in prices:\n",
    "    if price > threshold:\n",
    "        signal = 1\n",
    "    elif price < threshold:\n",
    "        signal = -1\n",
    "    else:\n",
    "        signal = 0\n",
    "    print(f\"Price: {price}, Signal: {signal}\")\n"
   ]
  },
  {
   "cell_type": "code",
   "execution_count": 20,
   "id": "fa4746c5",
   "metadata": {},
   "outputs": [
    {
     "name": "stdout",
     "output_type": "stream",
     "text": [
      "Price: 10, Combined Signal: 0\n",
      "Price: 11, Combined Signal: 0\n",
      "Price: 12, Combined Signal: 0\n",
      "Price: 11, Combined Signal: 0\n",
      "Price: 13, Combined Signal: 0\n",
      "Price: 14, Combined Signal: 0\n",
      "Price: 13, Combined Signal: 0\n",
      "Price: 12, Combined Signal: 0\n",
      "Price: 13, Combined Signal: -1\n",
      "Price: 15, Combined Signal: 0\n"
     ]
    }
   ],
   "source": [
    "mode = 'Vote'  # Options: 'Vote', 'And', 'First Non-Zero'\n",
    "for i in range(len(prices)):\n",
    "    # Threshold Breakout Rule\n",
    "    price = prices[i]\n",
    "    if price > threshold:\n",
    "        signal_tb = 1\n",
    "    elif price < threshold:\n",
    "        signal_tb = -1\n",
    "    else:\n",
    "        signal_tb = 0\n",
    "\n",
    "    # Moving-Average Crossover Rule\n",
    "    if i < long_window - 1:\n",
    "        signal_ma = 0\n",
    "    else:\n",
    "        short_ma = sum(prices[i-short_window+1:i+1]) / short_window\n",
    "        long_ma = sum(prices[i-long_window+1:i+1]) / long_window\n",
    "        if short_ma > long_ma:\n",
    "            signal_ma = 1\n",
    "        elif short_ma < long_ma:\n",
    "            signal_ma = -1\n",
    "        else:\n",
    "            signal_ma = 0\n",
    "\n",
    "    # Combine Signals\n",
    "    if mode == 'Vote':\n",
    "        combined_signal = round((signal_tb + signal_ma) / 2)\n",
    "    elif mode == 'And':\n",
    "        combined_signal = signal_tb if signal_tb == signal_ma else 0\n",
    "    elif mode == 'First Non-Zero':\n",
    "        combined_signal = signal_tb if signal_tb != 0 else signal_ma\n",
    "    else:\n",
    "        combined_signal = 0\n",
    "\n",
    "\n",
    "    print(f\"Price: {price}, Combined Signal: {combined_signal}\")\n",
    "\n",
    "    "
   ]
  },
  {
   "cell_type": "markdown",
   "id": "21ed9c1c",
   "metadata": {},
   "source": [
    "# Combined Signal Generation"
   ]
  },
  {
   "cell_type": "code",
   "execution_count": null,
   "id": "63ba6243",
   "metadata": {},
   "outputs": [],
   "source": []
  }
 ],
 "metadata": {
  "kernelspec": {
   "display_name": "bh",
   "language": "python",
   "name": "python3"
  },
  "language_info": {
   "codemirror_mode": {
    "name": "ipython",
    "version": 3
   },
   "file_extension": ".py",
   "mimetype": "text/x-python",
   "name": "python",
   "nbconvert_exporter": "python",
   "pygments_lexer": "ipython3",
   "version": "3.11.13"
  }
 },
 "nbformat": 4,
 "nbformat_minor": 5
}
