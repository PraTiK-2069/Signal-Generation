{
 "cells": [
  {
   "cell_type": "code",
   "execution_count": 57,
   "id": "596d2b8c",
   "metadata": {},
   "outputs": [
    {
     "name": "stderr",
     "output_type": "stream",
     "text": [
      "/var/folders/6l/mgwxrcvs1pjg0tly79cx79400000gn/T/ipykernel_76289/1900082270.py:4: FutureWarning: YF.download() has changed argument auto_adjust default to True\n",
      "  data = yf.download(\"AAPL\", start=\"2024-01-01\", end=\"2025-01-01\")\n",
      "[*********************100%***********************]  1 of 1 completed\n"
     ]
    }
   ],
   "source": [
    "import yfinance as yf\n",
    "import pandas as pd\n",
    "\n",
    "data = yf.download(\"AAPL\", start=\"2024-01-01\", end=\"2025-01-01\")\n",
    "\n",
    "prices = list(data[\"Close\"][\"AAPL\"])\n",
    "\n",
    "\n",
    "\n",
    "    "
   ]
  },
  {
   "cell_type": "markdown",
   "id": "9a66ab15",
   "metadata": {},
   "source": [
    "# Threshold Breakout Rule"
   ]
  },
  {
   "cell_type": "code",
   "execution_count": 59,
   "id": "d1003fad",
   "metadata": {},
   "outputs": [],
   "source": [
    "def threshold_breakout_rule(prices, lookback=5):\n",
    "    signals = []\n",
    "    for i, price in enumerate(prices):\n",
    "        window = prices[max(0, i - lookback):i]\n",
    "        if len(window) < lookback:\n",
    "            signals.append(0)\n",
    "        elif price > max(window):\n",
    "            signals.append(1)\n",
    "        elif price < min(window):\n",
    "            signals.append(-1)\n",
    "        else:\n",
    "            signals.append(0)\n",
    "    return signals\n"
   ]
  },
  {
   "cell_type": "code",
   "execution_count": 60,
   "id": "25da3be0",
   "metadata": {},
   "outputs": [
    {
     "name": "stdout",
     "output_type": "stream",
     "text": [
      "Breakout signals: [0, 0, 0, -1, 1, 0, 1, 0, 0, -1, -1, 1, 1, 1, 1, 0, 0, -1, -1, -1, -1, 0, 0, 1, 1, 1, 0, 0, -1, -1, -1, -1, -1, -1, 0, 1, 0, -1, 0, 0, -1, -1, -1, -1, -1, -1, 1, 1, 1, 0, 0, 0, 1, 1, 1, -1, 0, -1, -1, 1, 0, 0, -1, 0, -1, 0, -1, 1, -1, 1, 1, 0, -1, -1, -1, -1, 0, 0, 1, 1, 0, 1, 0, 0, 0, 1, 0, 0, 0, 1, 0, 1, 1, 1, 1, 1, 1, 1, 0, -1, 0, 0, 1, 1, 1, 1, 1, 1, 0, 1, -1, 1, 1, 1, 0, 1, 0, -1, -1, 0, 0, 1, 1, 0, 1, 1, 1, 1, 1, 1, 1, -1, 0, 1, 1, -1, -1, 0, -1, 1, -1, -1, 0, 0, 1, 1, 0, 0, -1, -1, 0, 1, 1, 1, 1, 1, 1, 1, 0, 1, 0, -1, 1, 1, 1, -1, 1, 0, -1, -1, 0, -1, 0, -1, 1, 1, 0, -1, 0, 0, 1, 0, 0, 0, -1, 1, 1, 1, -1, 0, -1, 1, -1, 0, 1, 0, 0, 1, 1, 0, 0, 1, 1, 0, -1, -1, 0, 1, 1, -1, -1, -1, -1, 0, 0, 1, 0, 0, 0, 0, 1, 0, 0, 1, 1, 0, 1, 1, 1, 0, 1, 1, 1, 1, 1, 0, 1, 1, 0, 1, 1, 1, 1, -1, 0, 1, 1, 1, 1, 0, -1, -1]\n"
     ]
    }
   ],
   "source": [
    "breakout_signals = threshold_breakout_rule(prices, lookback=3)\n",
    "print(\"Breakout signals:\", breakout_signals)"
   ]
  },
  {
   "cell_type": "markdown",
   "id": "875e4f53",
   "metadata": {},
   "source": [
    "# Moving-Average Crossover Rule"
   ]
  },
  {
   "cell_type": "code",
   "execution_count": 61,
   "id": "d114bfde",
   "metadata": {},
   "outputs": [],
   "source": [
    "def moving_average_rule(prices, short_window=3, long_window=5):\n",
    "    signals = []\n",
    "    for i in range(len(prices)):\n",
    "        if i < long_window - 1:\n",
    "            signals.append(0)\n",
    "        else:\n",
    "            short_ma = sum(prices[i - short_window + 1:i + 1]) / short_window\n",
    "            long_ma = sum(prices[i - long_window + 1:i + 1]) / long_window\n",
    "            if short_ma > long_ma:\n",
    "                signals.append(1)\n",
    "            elif short_ma < long_ma:\n",
    "                signals.append(-1)\n",
    "            else:\n",
    "                signals.append(0)\n",
    "    return signals\n"
   ]
  },
  {
   "cell_type": "code",
   "execution_count": 62,
   "id": "78dfd49b",
   "metadata": {},
   "outputs": [
    {
     "name": "stdout",
     "output_type": "stream",
     "text": [
      "Moving Average signals: [0, 0, 0, -1, 1, 1, 1, 1, 1, -1, -1, 1, 1, 1, 1, 1, -1, -1, -1, -1, -1, -1, 1, 1, 1, 1, 1, -1, -1, -1, -1, -1, -1, -1, -1, 1, 1, -1, -1, 1, -1, -1, -1, -1, -1, -1, 1, 1, 1, 1, -1, 1, 1, 1, 1, 1, -1, -1, -1, -1, 1, -1, -1, -1, -1, -1, -1, -1, -1, 1, 1, 1, -1, -1, -1, -1, -1, 1, 1, 1, 1, 1, 1, -1, -1, 1, 1, 1, 1, 1, 1, 1, 1, 1, 1, 1, 1, 1, 1, -1, -1, 1, 1, 1, 1, 1, 1, 1, 1, 1, -1, 1, 1, 1, 1, 1, 1, -1, -1, -1, 1, 1, 1, 1, 1, 1, 1, 1, 1, 1, 1, 1, -1, 1, 1, -1, -1, -1, -1, 1, -1, -1, -1, 1, 1, 1, 1, -1, -1, -1, -1, 1, 1, 1, 1, 1, 1, 1, 1, 1, 1, -1, -1, 1, 1, 1, 1, 1, -1, -1, -1, -1, -1, -1, 1, 1, 1, -1, -1, -1, 1, 1, 1, -1, -1, 1, 1, 1, 1, -1, -1, -1, -1, -1, 1, 1, 1, 1, 1, 1, -1, 1, 1, 1, -1, -1, -1, 1, 1, -1, -1, -1, -1, -1, 1, 1, 1, 1, -1, -1, 1, 1, -1, 1, 1, 1, 1, 1, 1, 1, 1, 1, 1, 1, 1, 1, 1, 1, 1, -1, 1, 1, 1, 1, -1, 1, 1, 1, 1, 1, -1, -1]\n"
     ]
    }
   ],
   "source": [
    "ma_signals = moving_average_rule(prices, short_window=2, long_window=4)\n",
    "print(\"Moving Average signals:\", ma_signals)\n"
   ]
  },
  {
   "cell_type": "markdown",
   "id": "afbf7ba8",
   "metadata": {},
   "source": [
    "# Combined Signal Generation"
   ]
  },
  {
   "cell_type": "code",
   "execution_count": 63,
   "id": "fa4746c5",
   "metadata": {},
   "outputs": [],
   "source": [
    "def combine_signals(breakout_signals, ma_signals, mode='vote'):\n",
    "    \"\"\"\n",
    "    Combine breakout and moving average signals.\n",
    "\n",
    "    mode options:\n",
    "        'vote'          → average both and round\n",
    "        'and'           → signal only if both agree\n",
    "        'first_nonzero' → take first non-zero in priority (breakout first)\n",
    "    \"\"\"\n",
    "    combined = []\n",
    "    for b, m in zip(breakout_signals, ma_signals):\n",
    "        if mode == 'vote':\n",
    "            combined.append(int(round((b + m) / 2)))\n",
    "        elif mode == 'and':\n",
    "            combined.append(b if b == m else 0)\n",
    "        elif mode == 'first_nonzero':\n",
    "            combined.append(b if b != 0 else m)\n",
    "        else:\n",
    "            raise ValueError(\"Invalid mode. Choose 'vote', 'and', or 'first_nonzero'.\")\n",
    "    return combined\n",
    "\n",
    "\n"
   ]
  },
  {
   "cell_type": "code",
   "execution_count": 64,
   "id": "96f33a31",
   "metadata": {},
   "outputs": [
    {
     "name": "stdout",
     "output_type": "stream",
     "text": [
      "Combined signals: [0, 0, 0, -1, 1, 0, 1, 0, 0, -1, -1, 1, 1, 1, 1, 0, 0, -1, -1, -1, -1, 0, 0, 1, 1, 1, 0, 0, -1, -1, -1, -1, -1, -1, 0, 1, 0, -1, 0, 0, -1, -1, -1, -1, -1, -1, 1, 1, 1, 0, 0, 0, 1, 1, 1, 0, 0, -1, -1, 0, 0, 0, -1, 0, -1, 0, -1, 0, -1, 1, 1, 0, -1, -1, -1, -1, 0, 0, 1, 1, 0, 1, 0, 0, 0, 1, 0, 0, 0, 1, 0, 1, 1, 1, 1, 1, 1, 1, 0, -1, 0, 0, 1, 1, 1, 1, 1, 1, 0, 1, -1, 1, 1, 1, 0, 1, 0, -1, -1, 0, 0, 1, 1, 0, 1, 1, 1, 1, 1, 1, 1, 0, 0, 1, 1, -1, -1, 0, -1, 1, -1, -1, 0, 0, 1, 1, 0, 0, -1, -1, 0, 1, 1, 1, 1, 1, 1, 1, 0, 1, 0, -1, 0, 1, 1, 0, 1, 0, -1, -1, 0, -1, 0, -1, 1, 1, 0, -1, 0, 0, 1, 0, 0, 0, -1, 1, 1, 1, 0, 0, -1, 0, -1, 0, 1, 0, 0, 1, 1, 0, 0, 1, 1, 0, -1, -1, 0, 1, 1, -1, -1, -1, -1, 0, 0, 1, 0, 0, 0, 0, 1, 0, 0, 1, 1, 0, 1, 1, 1, 0, 1, 1, 1, 1, 1, 0, 1, 1, 0, 0, 1, 1, 1, 0, 0, 1, 1, 1, 1, 0, -1, -1]\n"
     ]
    }
   ],
   "source": [
    "combined_signals = combine_signals(breakout_signals, ma_signals, mode='vote')\n",
    "print(\"Combined signals:\", combined_signals)"
   ]
  },
  {
   "cell_type": "code",
   "execution_count": null,
   "id": "e32c46cb",
   "metadata": {},
   "outputs": [],
   "source": []
  }
 ],
 "metadata": {
  "kernelspec": {
   "display_name": "bh",
   "language": "python",
   "name": "python3"
  },
  "language_info": {
   "codemirror_mode": {
    "name": "ipython",
    "version": 3
   },
   "file_extension": ".py",
   "mimetype": "text/x-python",
   "name": "python",
   "nbconvert_exporter": "python",
   "pygments_lexer": "ipython3",
   "version": "3.11.13"
  }
 },
 "nbformat": 4,
 "nbformat_minor": 5
}
